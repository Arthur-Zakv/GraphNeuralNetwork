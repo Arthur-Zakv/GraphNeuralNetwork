{
 "cells": [
  {
   "cell_type": "code",
   "execution_count": 498,
   "id": "805f2e48",
   "metadata": {},
   "outputs": [],
   "source": [
    "import torch\n",
    "import torch.nn as nn\n",
    "from torch import inverse\n",
    "\n",
    "import torch_geometric as tg\n",
    "import torch_geometric.nn as gnn\n",
    "from torch_geometric.data import Data, Batch, Dataset, DataLoader\n",
    "\n",
    "\n",
    "from torch_geometric.nn import MessagePassing\n",
    "from torch_geometric.utils import add_self_loops, degree, to_dense_adj"
   ]
  },
  {
   "cell_type": "code",
   "execution_count": 27,
   "id": "cc4fb969",
   "metadata": {},
   "outputs": [],
   "source": [
    "# edge_index: [2,N]\n",
    "# x: [N, d]\n"
   ]
  },
  {
   "cell_type": "code",
   "execution_count": 160,
   "id": "626bf0c1",
   "metadata": {},
   "outputs": [
    {
     "data": {
      "text/plain": [
       "torch.Size([5, 1])"
      ]
     },
     "execution_count": 160,
     "metadata": {},
     "output_type": "execute_result"
    }
   ],
   "source": [
    "edges = torch.tensor([[0,1,2,3,4],[1,2,3,4,1]])\n",
    "x = torch.tensor([[10,20,30,40,50]]).T\n",
    "x.shape"
   ]
  },
  {
   "cell_type": "code",
   "execution_count": 161,
   "id": "b8e664f5",
   "metadata": {},
   "outputs": [
    {
     "data": {
      "text/plain": [
       "Data(edge_index=[2, 5], x=[5, 1])"
      ]
     },
     "execution_count": 161,
     "metadata": {},
     "output_type": "execute_result"
    }
   ],
   "source": [
    "G = Data(x = x, edge_index = edges)\n",
    "G"
   ]
  },
  {
   "cell_type": "code",
   "execution_count": 128,
   "id": "1a929b8f",
   "metadata": {},
   "outputs": [
    {
     "name": "stdout",
     "output_type": "stream",
     "text": [
      "5\n",
      "5\n",
      "1\n",
      "['x', 'edge_index']\n",
      "tensor([[10],\n",
      "        [20],\n",
      "        [30],\n",
      "        [40],\n",
      "        [50]])\n"
     ]
    }
   ],
   "source": [
    "print(G.num_edges)\n",
    "print(G.num_nodes)\n",
    "print(G.num_node_features)\n",
    "print(G.keys)\n",
    "print(G['x'])"
   ]
  },
  {
   "cell_type": "code",
   "execution_count": 129,
   "id": "9c40d243",
   "metadata": {},
   "outputs": [
    {
     "data": {
      "text/plain": [
       "Batch(batch=[15], edge_index=[2, 15], ptr=[4], x=[15, 1])"
      ]
     },
     "execution_count": 129,
     "metadata": {},
     "output_type": "execute_result"
    }
   ],
   "source": [
    "batch = Batch.from_data_list([G, G, G])\n",
    "batch"
   ]
  },
  {
   "cell_type": "code",
   "execution_count": 130,
   "id": "059cf0b1",
   "metadata": {},
   "outputs": [
    {
     "name": "stdout",
     "output_type": "stream",
     "text": [
      "Data(edge_index=[2, 5], x=[5, 1])\n",
      "3\n",
      "[Data(edge_index=[2, 5], x=[5, 1]), Data(edge_index=[2, 5], x=[5, 1]), Data(edge_index=[2, 5], x=[5, 1])]\n"
     ]
    }
   ],
   "source": [
    "print(batch[0])\n",
    "print(batch.num_graphs)\n",
    "print(batch.to_data_list())"
   ]
  },
  {
   "cell_type": "code",
   "execution_count": 206,
   "id": "bb42ad63",
   "metadata": {},
   "outputs": [],
   "source": [
    "def total_degree(edge_index, num_nodes):\n",
    "    \"\"\"\n",
    "    Arguments\n",
    "    ---------\n",
    "    edge_index : torch.Tensor [2, num_edges]\n",
    "    num_nodes : int\n",
    "    \n",
    "    Return\n",
    "    ------\n",
    "    total_degree : torch.Tensor [num_nodes]\n",
    "    \"\"\"\n",
    "    return out_degree(edge_index, num_nodes) \\\n",
    "         + in_degree(edge_index, num_nodes)"
   ]
  },
  {
   "cell_type": "code",
   "execution_count": 437,
   "id": "45b23acd",
   "metadata": {},
   "outputs": [],
   "source": [
    "def out_degree(edge_index, num_nodes):\n",
    "    \"\"\"\n",
    "    Arguments\n",
    "    ---------\n",
    "    edge_index : torch.Tensor [2, num_edges]\n",
    "    num_nodes : int\n",
    "    \n",
    "    Returns\n",
    "    -------\n",
    "    out_degree : torch.Tensor [num_nodes]\n",
    "    \"\"\"\n",
    "    return degree(edge_index[0], num_nodes)"
   ]
  },
  {
   "cell_type": "code",
   "execution_count": 436,
   "id": "f5116631",
   "metadata": {},
   "outputs": [],
   "source": [
    "def in_degree(edge_index, num_nodes):\n",
    "    \"\"\"\n",
    "    Arguments\n",
    "    ---------\n",
    "    edge_index : torch.Tensor [2, num_edges]\n",
    "    num_nodes : int\n",
    "    \n",
    "    Returns\n",
    "    -------\n",
    "    in_degree : torch.Tensor [num_nodes]\n",
    "    \"\"\"\n",
    "    return degree(edge_index[1], num_nodes)"
   ]
  },
  {
   "cell_type": "code",
   "execution_count": 238,
   "id": "0c554968",
   "metadata": {},
   "outputs": [],
   "source": [
    "class GNN(tg.nn.MessagePassing):\n",
    "    def __init__(self, d_x=1, d_m=1):\n",
    "        super(GNN, self).__init__(aggr = 'add', flow = 'source_to_target', node_dim = -2)\n",
    "        \n",
    "        self.fc = nn.Linear(d_x, d_m)\n",
    "        \n",
    "    def message(self, x_i, x_j, x, edge_index):\n",
    "        \"\"\"phi and square\n",
    "        \n",
    "        Arguments\n",
    "        ---------\n",
    "        everything that was passed to \"propagate\"\n",
    "        propagate automatically extracts x_j and x_i for every node i\n",
    "        so this is an individual message\n",
    "        \n",
    "        x_i : torch.Tensor [E, d_x]\n",
    "        x_j : torch.Tensor [E, d_x]\n",
    "        \n",
    "        Returns\n",
    "        -------\n",
    "        m_ij : torch.Tensor [E, d_m]\n",
    "            message from an single neighbour j to node i\n",
    "        \"\"\"\n",
    "        return x\n",
    "    \n",
    "    def update(self, aggr_out):\n",
    "        \"\"\"gamma\n",
    "        \n",
    "        Arguments\n",
    "        ---------\n",
    "        aggr_out : torch.Tensor [N, d_m]\n",
    "            output of the aggregation function\n",
    "        \n",
    "        Returns\n",
    "        -------\n",
    "        x_k : torch.Tensor [N, d_x]\n",
    "        \"\"\"\n",
    "        return aggr_out\n",
    "    \n",
    "    def forward(self, x, edge_index):\n",
    "        \"\"\"Prepare data, input to propagate and return\n",
    "        \n",
    "        Arguments\n",
    "        ---------\n",
    "        x_k-1 : torch.Tensor [N, d_x]\n",
    "        \n",
    "        Returns\n",
    "        -------\n",
    "        x_k : torch.Tensor [N, d_x]\n",
    "        \"\"\"\n",
    "        \n",
    "        return self.propagate(x)"
   ]
  },
  {
   "cell_type": "code",
   "execution_count": 376,
   "id": "c452e7af",
   "metadata": {},
   "outputs": [],
   "source": [
    "class GNN(tg.nn.MessagePassing):\n",
    "    def __init__(self, d):\n",
    "        super(GNN, self).__init__(aggr = 'mean', \n",
    "                                  flow = 'source_to_target', \n",
    "                                  node_dim = -2)\n",
    "        \n",
    "        self.W_j = nn.Linear(d, d)\n",
    "        self.W_i = nn.Linear(d, d)\n",
    "        self.act = nn.ReLU()\n",
    "    \n",
    "    def message(self, x_j):\n",
    "        \"\"\"\n",
    "        Arguments\n",
    "        ---------\n",
    "        x_j : torch.Tensor [E, d]\n",
    "        \n",
    "        Returns\n",
    "        -------\n",
    "        m_j : torch.Tensor [E, d]\n",
    "        \"\"\"\n",
    "        m_j = self.act(self.W_j(x_j))\n",
    "        return m_j\n",
    "        \n",
    "\n",
    "    def update(self, aggr_out, x):\n",
    "        \"\"\"\n",
    "        Arguments\n",
    "        ---------\n",
    "        x : torch.Tensor [N, d]\n",
    "        aggr_out : torch.Tensor [N, d]\n",
    "        \n",
    "        Returns\n",
    "        -------\n",
    "        x_k : torch.Tensor [N, d]\n",
    "        \"\"\"\n",
    "        m = aggr_out\n",
    "        \n",
    "        x_k = m + self.W_i(x)\n",
    "        return x_k\n",
    "    \n",
    "    def forward(self, edge_index, x):\n",
    "        \"\"\"\n",
    "        Arguments\n",
    "        ---------\n",
    "        edge_index : torch.tensor [2, E]\n",
    "        x : torch.tensor [N, d]\n",
    "        \n",
    "        Returns\n",
    "        -------\n",
    "        x_k : torch.Tensor [N, d]\n",
    "        \"\"\"\n",
    "        x_k = self.propagate(edge_index, x=x)\n",
    "        return x_k"
   ]
  },
  {
   "cell_type": "code",
   "execution_count": 527,
   "id": "4cb691c1",
   "metadata": {},
   "outputs": [
    {
     "data": {
      "text/plain": [
       "tensor([[10.],\n",
       "        [20.],\n",
       "        [30.]])"
      ]
     },
     "execution_count": 527,
     "metadata": {},
     "output_type": "execute_result"
    }
   ],
   "source": [
    "x = torch.tensor([[10, 20, 30]]).T.float()\n",
    "x"
   ]
  },
  {
   "cell_type": "code",
   "execution_count": 528,
   "id": "275cd576",
   "metadata": {},
   "outputs": [
    {
     "data": {
      "text/plain": [
       "tensor([[0, 0, 2],\n",
       "        [1, 2, 1]])"
      ]
     },
     "execution_count": 528,
     "metadata": {},
     "output_type": "execute_result"
    }
   ],
   "source": [
    "edge_index = torch.tensor([[0,0,2],[1,2,1]])\n",
    "edge_index"
   ]
  },
  {
   "cell_type": "code",
   "execution_count": 529,
   "id": "cb0d5192",
   "metadata": {},
   "outputs": [
    {
     "data": {
      "text/plain": [
       "tensor([[ 8.0344],\n",
       "        [18.6940],\n",
       "        [25.1396]], grad_fn=<AddBackward0>)"
      ]
     },
     "execution_count": 529,
     "metadata": {},
     "output_type": "execute_result"
    }
   ],
   "source": [
    "GNN(1)(edge_index, x)"
   ]
  },
  {
   "cell_type": "code",
   "execution_count": 664,
   "id": "74c8288c",
   "metadata": {},
   "outputs": [
    {
     "data": {
      "text/plain": [
       "torch.Size([3, 1])"
      ]
     },
     "execution_count": 664,
     "metadata": {},
     "output_type": "execute_result"
    }
   ],
   "source": [
    "GCN(1)(edge_index, x).shape"
   ]
  },
  {
   "cell_type": "code",
   "execution_count": 665,
   "id": "c959a54b",
   "metadata": {},
   "outputs": [],
   "source": [
    "class GCN(tg.nn.MessagePassing):\n",
    "    def __init__(self, d):\n",
    "        super(GCN, self).__init__(aggr = 'add', flow = 'source_to_target')\n",
    "        self.W = nn.Linear(d,d)\n",
    "        self.act = nn.Softmax(-1)\n",
    "        \n",
    "    def normalize_edges(self, edge_index, num_nodes):\n",
    "        \"\"\"\n",
    "        Arguments\n",
    "        ---------\n",
    "        edge_index : torch.tensor [2, E]\n",
    "        num_nodes : int\n",
    "\n",
    "        Returns\n",
    "        -------\n",
    "        norm : torch.tensor [E, 1]\n",
    "        \"\"\"\n",
    "        d_inv_sqrt = in_degree(edge_index, num_nodes = num_nodes).pow(-0.5)\n",
    "        out_nodes, in_nodes = edge_index\n",
    "        norm = d_inv_sqrt[out_nodes] * d_inv_sqrt[in_nodes]\n",
    "        return norm.view(-1,1)\n",
    "        \n",
    "    def message(self, edge_index, x, norm, x_j):\n",
    "        \"\"\"\n",
    "        Arguments\n",
    "        ---------\n",
    "        edge_index : torch.tensor [2, E]\n",
    "        x : torch.tensor [N, d]\n",
    "        x_j : torch.tensor [E, d]\n",
    "        \n",
    "        Returns\n",
    "        -------\n",
    "        m_j : torch.tensor [E, d]\n",
    "        \"\"\"\n",
    "        norm = self.normalize_edges(edge_index, x.shape[-2])\n",
    "        m_j = x_j * norm\n",
    "        return m_j\n",
    "    \n",
    "    def update(self, aggr_out):\n",
    "        \"\"\"\n",
    "        Arguments\n",
    "        ---------\n",
    "        m : torch.tensor [N, d]\n",
    "        \n",
    "        Returns\n",
    "        -------\n",
    "        x_k : torch.tensor [N, d]\n",
    "        \"\"\"\n",
    "        m = aggr_out\n",
    "        x_k = self.act(m)\n",
    "        return m\n",
    "        \n",
    "        \n",
    "    def forward(self, edge_index, x):\n",
    "        x = self.W(x)\n",
    "        edge_index = add_self_loops(edge_index, num_nodes = x.shape[-2])[0]\n",
    "        return self.propagate(edge_index, x = x, norm = norm)"
   ]
  },
  {
   "cell_type": "code",
   "execution_count": 807,
   "id": "ffda64b4",
   "metadata": {},
   "outputs": [
    {
     "data": {
      "text/plain": [
       "tensor([[0, 0, 2],\n",
       "        [1, 2, 1]])"
      ]
     },
     "execution_count": 807,
     "metadata": {},
     "output_type": "execute_result"
    }
   ],
   "source": [
    "edge_index"
   ]
  },
  {
   "cell_type": "code",
   "execution_count": 862,
   "id": "37af1a4a",
   "metadata": {},
   "outputs": [],
   "source": [
    "class SingleHeadAttention(tg.nn.MessagePassing):\n",
    "    def __init__(self, d_x, d_h):\n",
    "        super(SingleHeadAttention, self).__init__()\n",
    "        \n",
    "        self.W = nn.Linear(d_x, d_h)\n",
    "        self.a = nn.Linear(2*d_h, 1)\n",
    "        \n",
    "    def attention(self, x_i, x_j):\n",
    "        \"\"\"\n",
    "        Arguments\n",
    "        ---------\n",
    "        x_i : torch.tensor [E, d_x]\n",
    "        x_j : torch.tensor [E, d_x]\n",
    "\n",
    "        Returns\n",
    "        -------\n",
    "        e_ij : torch.tensor [E, 1]\n",
    "        \"\"\"\n",
    "        e_ij = nn.LeakyReLU()(self.a(torch.cat([self.W(x_i), self.W(x_j)], dim = -1)))\n",
    "        return e_ij\n",
    "    \n",
    "    \n",
    "    def alpha(self, edge_index, x_i, x_j):\n",
    "        \"\"\"\n",
    "        Arguments\n",
    "        ---------\n",
    "        edge_index : torch.tensor [E, 2]\n",
    "        x_i : torch.tensor [E, d_x]\n",
    "        x_j : torch.tensor [E, d_x]\n",
    "        \n",
    "        Returns\n",
    "        -------\n",
    "        a_ij : torch.tensor [E, 1]\n",
    "        \"\"\"\n",
    "        neighbours, node = edge_index\n",
    "        e_ij = self.attention(x_i, x_j)\n",
    "        a_ij = torch.zeros_like(e_ij)\n",
    "        for i in range(x.shape[-2]):\n",
    "            i_edges = node == i\n",
    "            a_ij[i_edges] = nn.Softmax(-2)(e_ij[i_edges])\n",
    "        return a_ij\n",
    "    \n",
    "    \n",
    "    def message(self, edge_index, x_i, x_j):\n",
    "        \"\"\"\n",
    "        Arguments\n",
    "        ---------\n",
    "        edge_index : torch.tensor [E, 2]\n",
    "        x_i : torch.tensor [E, d_x]\n",
    "        x_j : torch.tensor [E, d_x]\n",
    "        \n",
    "        Returns\n",
    "        -------\n",
    "        m_j : torch.tensor [E, d_h]\n",
    "        \"\"\"\n",
    "        a_ij = self.alpha(edge_index, x_i, x_j)\n",
    "        m_j = a_ij * self.W(x_j)\n",
    "        return m_j\n",
    "    \n",
    "    def update(self, aggr_out):\n",
    "        \"\"\"\n",
    "        Arguments\n",
    "        ---------\n",
    "        aggr_out : torch.tensor [N, d_h]\n",
    "        \n",
    "        Returns\n",
    "        -------\n",
    "        h : torch.tensor [N, d_h]\n",
    "        \"\"\"\n",
    "        m = aggr_out\n",
    "        h = nn.Softmax(-2)(m)\n",
    "        return h\n",
    "    \n",
    "    \n",
    "    def forward(self, edge_index, x):\n",
    "        \"\"\"\n",
    "        Arguments\n",
    "        ---------\n",
    "        edge_index : torch.tensor [2, E]\n",
    "        x : torch.tensor [N, d_x]\n",
    "        \n",
    "        Returns\n",
    "        -------\n",
    "        h : torch.tensor [N, d_h]\n",
    "        \"\"\"\n",
    "        edge_index,_ = add_self_loops(edge_index, num_nodes = x.shape[-2])\n",
    "        h = self.propagate(edge_index = edge_index, x=x)\n",
    "        return h"
   ]
  },
  {
   "cell_type": "code",
   "execution_count": 855,
   "id": "0999add6",
   "metadata": {},
   "outputs": [],
   "source": [
    "class MultiHeadAttention(nn.Module):\n",
    "    def __init__(self, K, d_x, d_h):\n",
    "        super(MultiHeadAttention, self).__init__()\n",
    "        self.heads = nn.ModuleList([\n",
    "            SingleHeadAttention(d_x, d_h)\n",
    "            for _ in range(K)\n",
    "        ])\n",
    "        \n",
    "        self.W = nn.Linear(K*d_h, d_h)\n",
    "        \n",
    "    def forward(self, edge_index, x):\n",
    "        \"\"\"\n",
    "        Arguments\n",
    "        ---------\n",
    "        edge_index : torch.tensor [2, E]\n",
    "        x : torch.tensor [N, d_x]\n",
    "        \n",
    "        Returns\n",
    "        -------\n",
    "        h : torch.tensor [N, d_h]\n",
    "        \"\"\"\n",
    "        h_k = [head(edge_index, x) for head in self.heads]\n",
    "        h = self.W(torch.cat(h_k, dim = -1))\n",
    "        return h"
   ]
  },
  {
   "cell_type": "code",
   "execution_count": 776,
   "id": "1aef2772",
   "metadata": {},
   "outputs": [],
   "source": [
    "def undirected_message(self, edge_index, x_i, x_j):\n",
    "    \"\"\" \n",
    "    For an undirected graph, the MessagePassing class can't be used,\n",
    "    because the attention weights must sum up for every node, which means, \n",
    "    that they will be different for every node.\n",
    "    Therefore we can't just pass 'x_j' to the aggregation function, \n",
    "    because that would imply, that the edges will have the same value for every node, but they don't.\n",
    "    For a directed graph everything is fine, because edges are not shared.\n",
    "    \"\"\"\n",
    "    neighbours, node = edge_index\n",
    "    e_ij = self.attention(x_i, x_j)\n",
    "\n",
    "    messages = list()\n",
    "    for i in range(x.shape[-2]):\n",
    "        i_edges = node == i\n",
    "        a_ij = nn.Softmax(-2)(e_ij[i_edges])\n",
    "        x_j = x[neighbours[i_edges]] \n",
    "        m_i = (a_ij * self.W(x_j)).sum(0)\n",
    "        messages.append(m_i)\n",
    "    m = torch.stack(messages, 0)\n",
    "    return m"
   ]
  }
 ],
 "metadata": {
  "kernelspec": {
   "display_name": "Python [conda env:torch] *",
   "language": "python",
   "name": "conda-env-torch-py"
  },
  "language_info": {
   "codemirror_mode": {
    "name": "ipython",
    "version": 3
   },
   "file_extension": ".py",
   "mimetype": "text/x-python",
   "name": "python",
   "nbconvert_exporter": "python",
   "pygments_lexer": "ipython3",
   "version": "3.8.8"
  }
 },
 "nbformat": 4,
 "nbformat_minor": 5
}
